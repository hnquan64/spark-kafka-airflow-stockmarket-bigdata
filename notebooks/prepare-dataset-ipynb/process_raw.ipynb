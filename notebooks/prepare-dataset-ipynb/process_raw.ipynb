{
 "cells": [
  {
   "cell_type": "code",
   "execution_count": 1,
   "id": "8b37ff4b",
   "metadata": {},
   "outputs": [
    {
     "name": "stdout",
     "output_type": "stream",
     "text": [
      "Requirement already satisfied: finta in /opt/conda/lib/python3.9/site-packages (1.3)\n",
      "Requirement already satisfied: pandas in /opt/conda/lib/python3.9/site-packages (from finta) (1.3.4)\n",
      "Requirement already satisfied: numpy in /opt/conda/lib/python3.9/site-packages (from finta) (1.20.3)\n",
      "Requirement already satisfied: python-dateutil>=2.7.3 in /opt/conda/lib/python3.9/site-packages (from pandas->finta) (2.8.2)\n",
      "Requirement already satisfied: pytz>=2017.3 in /opt/conda/lib/python3.9/site-packages (from pandas->finta) (2021.3)\n",
      "Requirement already satisfied: six>=1.5 in /opt/conda/lib/python3.9/site-packages (from python-dateutil>=2.7.3->pandas->finta) (1.16.0)\n",
      "Requirement already satisfied: findspark in /opt/conda/lib/python3.9/site-packages (1.4.2)\n"
     ]
    }
   ],
   "source": [
    "!pip install finta\n",
    "!pip install findspark"
   ]
  },
  {
   "cell_type": "code",
   "execution_count": null,
   "id": "3f300cc0",
   "metadata": {},
   "outputs": [],
   "source": []
  },
  {
   "cell_type": "code",
   "execution_count": 3,
   "id": "0cf4fb65",
   "metadata": {},
   "outputs": [],
   "source": [
    "from pyspark.sql import SparkSession\n",
    "import pandas as pd"
   ]
  },
  {
   "cell_type": "code",
   "execution_count": 2,
   "id": "3cb07919",
   "metadata": {},
   "outputs": [
    {
     "name": "stderr",
     "output_type": "stream",
     "text": [
      "WARNING: An illegal reflective access operation has occurred\n",
      "WARNING: Illegal reflective access by org.apache.spark.unsafe.Platform (file:/usr/local/spark-3.1.2-bin-hadoop3.2/jars/spark-unsafe_2.12-3.1.2.jar) to constructor java.nio.DirectByteBuffer(long,int)\n",
      "WARNING: Please consider reporting this to the maintainers of org.apache.spark.unsafe.Platform\n",
      "WARNING: Use --illegal-access=warn to enable warnings of further illegal reflective access operations\n",
      "WARNING: All illegal access operations will be denied in a future release\n",
      "22/01/24 13:17:34 WARN NativeCodeLoader: Unable to load native-hadoop library for your platform... using builtin-java classes where applicable\n",
      "Using Spark's default log4j profile: org/apache/spark/log4j-defaults.properties\n",
      "Setting default log level to \"WARN\".\n",
      "To adjust logging level use sc.setLogLevel(newLevel). For SparkR, use setLogLevel(newLevel).\n"
     ]
    }
   ],
   "source": [
    "from pyspark.sql import SparkSession\n",
    "\n",
    "# Spark session & context\n",
    "spark = (SparkSession\n",
    "         .builder\n",
    "         .master(\"local\")\n",
    "         .appName(\"raw-dataset\")\n",
    "         # Add postgres jar\n",
    "         .config(\"spark.driver.extraClassPath\", \"/home/jovyan/work/jars/postgresql-9.4.1207.jar\")\n",
    "         .getOrCreate())\n",
    "sc = spark.sparkContext"
   ]
  },
  {
   "cell_type": "code",
   "execution_count": 4,
   "id": "1f53d0ce",
   "metadata": {
    "scrolled": false
   },
   "outputs": [
    {
     "name": "stderr",
     "output_type": "stream",
     "text": [
      "                                                                                \r"
     ]
    }
   ],
   "source": [
    "df = spark.read.options(header='True',inferSchema='True',delimiter=',').csv('/home/jovyan/work/data/dataset/raw.csv')\n",
    "df = df.drop(df[0]) #drop index column (first column)"
   ]
  },
  {
   "cell_type": "code",
   "execution_count": 8,
   "id": "6cf3885a",
   "metadata": {},
   "outputs": [
    {
     "name": "stderr",
     "output_type": "stream",
     "text": [
      "                                                                                \r"
     ]
    }
   ],
   "source": [
    "df = spark.read.options(header='True',inferSchema='True',delimiter=',').csv('/home/jovyan/work/data/stock_data_final')\n",
    "df = df.drop(df[0]) #drop index column (first column)"
   ]
  },
  {
   "cell_type": "code",
   "execution_count": 14,
   "id": "b474c49b",
   "metadata": {},
   "outputs": [
    {
     "name": "stderr",
     "output_type": "stream",
     "text": [
      "                                                                                \r"
     ]
    },
    {
     "name": "stdout",
     "output_type": "stream",
     "text": [
      "+---------+-------+\n",
      "|pred_3_3p|  count|\n",
      "+---------+-------+\n",
      "|     down| 167048|\n",
      "|       sw|1212490|\n",
      "|       up| 197765|\n",
      "+---------+-------+\n",
      "\n"
     ]
    },
    {
     "name": "stderr",
     "output_type": "stream",
     "text": [
      "\r",
      "[Stage 25:============================================>           (59 + 1) / 75]\r",
      "\r",
      "                                                                                \r"
     ]
    }
   ],
   "source": [
    "df.groupBy(\"pred_3_3p\").count().show()"
   ]
  },
  {
   "cell_type": "code",
   "execution_count": 5,
   "id": "878fa83a",
   "metadata": {},
   "outputs": [],
   "source": [
    "##reanme column to match Finta API require\n",
    "import pyspark.sql.functions as F\n",
    "columns = {\"Close\": 'close', \"High\": 'high', \"Low\": 'low', 'Volume': 'volume', 'Open': 'open'}\n",
    "\n",
    "def rename_columns(df, columns):\n",
    "    if isinstance(columns, dict):\n",
    "        return df.select(*[F.col(col_name).alias(columns.get(col_name, col_name)) for col_name in df.columns])\n",
    "    else:\n",
    "        raise ValueError(\"'columns' should be a dict, like {'old_name_1':'new_name_1', 'old_name_2':'new_name_2'}\")\n",
    "\n",
    "df = rename_columns(df,columns)"
   ]
  },
  {
   "cell_type": "code",
   "execution_count": 6,
   "id": "88625e8a",
   "metadata": {
    "scrolled": true
   },
   "outputs": [],
   "source": [
    "from pyspark.sql.functions import to_timestamp\n",
    "df = df.withColumn(\"Date\",to_timestamp(df.Date))"
   ]
  },
  {
   "cell_type": "code",
   "execution_count": 7,
   "id": "27ec5d31",
   "metadata": {
    "scrolled": true
   },
   "outputs": [
    {
     "name": "stdout",
     "output_type": "stream",
     "text": [
      "root\n",
      " |-- Date: timestamp (nullable = true)\n",
      " |-- open: double (nullable = true)\n",
      " |-- high: double (nullable = true)\n",
      " |-- low: double (nullable = true)\n",
      " |-- close: double (nullable = true)\n",
      " |-- Adj Close: double (nullable = true)\n",
      " |-- volume: long (nullable = true)\n",
      " |-- Symbol: string (nullable = true)\n",
      "\n"
     ]
    }
   ],
   "source": [
    "df.printSchema()"
   ]
  },
  {
   "cell_type": "code",
   "execution_count": 8,
   "id": "c9d685cd",
   "metadata": {},
   "outputs": [],
   "source": [
    "def _exponential_smooth(key, data):\n",
    "    \"\"\"\n",
    "    Function that exponentially smooths dataset so values are less 'rigid'\n",
    "    :param alpha: weight factor to weight recent values more\n",
    "    \"\"\"\n",
    "    symbol = data.Symbol.unique()[0]\n",
    "    data.set_index(\"Date\",inplace=True)\n",
    "    df = data.ewm(alpha=0.65).mean()\n",
    "    df.reset_index(inplace=True)\n",
    "    df.loc[:,'Symbol'] = symbol\n",
    "    \n",
    "    return pd.DataFrame(df.values)"
   ]
  },
  {
   "cell_type": "code",
   "execution_count": 9,
   "id": "5ad3d377",
   "metadata": {},
   "outputs": [],
   "source": [
    "#Schema have to match with return dataframe. Check group.columns, some of indicators maybe return null \n",
    "SCHEMA_EXP= \"Date string, open double, high double, low double, close double, Adj_close double, volume long, Symbol string\"\n",
    "\n",
    "\n",
    "df_exp = df.groupBy(\"Symbol\").applyInPandas(_exponential_smooth,schema=SCHEMA_EXP)"
   ]
  },
  {
   "cell_type": "code",
   "execution_count": 10,
   "id": "85dc765f",
   "metadata": {},
   "outputs": [],
   "source": [
    "def _get_indicator_grouped_data(key, group):\n",
    "    from finta import TA\n",
    "    INDICATORS = ['RSI', 'STOCH','ADL', 'ATR', 'MOM', 'MFI', 'ROC', 'OBV', 'CCI', 'EMV','WILLIAMS','ADX', 'TRIX']\n",
    "    \n",
    "    #df = pd.DataFrame()\n",
    "    ind = pd.DataFrame()\n",
    "    for indicator in INDICATORS:\n",
    "        ind_data = eval('TA.' + indicator + '(group)')\n",
    "        if not isinstance(ind_data,pd.DataFrame):\n",
    "            ind_data = ind_data.to_frame()\n",
    "            group = group.merge(ind_data, left_index=True, right_index=True)\n",
    "\n",
    "    del (group['open'])\n",
    "    del (group['high'])\n",
    "    del (group['low'])\n",
    "    del (group['volume'])\n",
    "    del (group['Adj_close'])\n",
    "    \n",
    "    #uncomment 2 lines below to test return column\n",
    "    #print(group.columns)\n",
    "    #return pd.DataFrame([key]) \n",
    "    \n",
    "    return pd.DataFrame(group.values)\n",
    "\n",
    "#SCHEMA = \"key string\"  test schema\n",
    "        "
   ]
  },
  {
   "cell_type": "code",
   "execution_count": 11,
   "id": "1c345f84",
   "metadata": {},
   "outputs": [],
   "source": [
    "#Schema have to match with return dataframe. Check group.columns, some of indicators maybe return null \n",
    "SCHEMA = \"Date string, close double, symbol string, 14_period_RSI double, \\\n",
    "14_period_STOCH_K double, MFV double, 14_period_ATR double, MOM double, 14_period_MFI double, \\\n",
    "ROC double, OBV double, 20_period_CCI double, 14_period_EMV double, Williams double, 14_period_ADX double, 20_period_TRIX double\"\n"
   ]
  },
  {
   "cell_type": "code",
   "execution_count": 12,
   "id": "3c3bea71",
   "metadata": {},
   "outputs": [],
   "source": [
    "df_indi = df_exp.groupBy(\"Symbol\").applyInPandas(_get_indicator_grouped_data,schema=SCHEMA)"
   ]
  },
  {
   "cell_type": "code",
   "execution_count": 13,
   "id": "c8f572c0",
   "metadata": {},
   "outputs": [],
   "source": [
    "def _produce_prediction(group):\n",
    "    \"\"\"\n",
    "    Function that produces the 'truth' values\n",
    "    At a given row, it looks 'day' rows ahead to see if the price increased (up) or decreased (down).\n",
    "    When the price change less than p%, it's sideways (sw).\n",
    "    :param day: number of days, or rows to look ahead to see what the price did\n",
    "    \"\"\"\n",
    "    \n",
    "    \n",
    "    #day = [3,5,7,10]\n",
    "    #for d in day:\n",
    "    #Wrong calculation when i use for loop and i have no idea\n",
    "    \n",
    "    p = 0.05\n",
    "    pred_3 =  1 - ( group[\"close\"] - group.shift(-3)[\"close\"])/group[\"close\"] \n",
    "    pred_3 = pred_3.iloc[:-3]\n",
    "    pred_3 = pd.DataFrame([\"down\" if x < (1-p) else (\"up\" if x > (1+p) else \"sw\") for x in pred_3])\n",
    "    group.loc[:,'pred_3_5p'] = pred_3\n",
    "    \n",
    "    pred_5 =  1 - ( group[\"close\"] - group.shift(-5)[\"close\"])/group[\"close\"] \n",
    "    pred_5 = pred_5.iloc[:-5]\n",
    "    pred_5 = pd.DataFrame([\"down\" if x < (1-p) else (\"up\" if x > (1+p) else \"sw\") for x in pred_5])\n",
    "    group.loc[:,'pred_5_5p'] = pred_5\n",
    "    \n",
    "    pred_7 =  1 - ( group[\"close\"] - group.shift(-7)[\"close\"])/group[\"close\"] \n",
    "    pred_7 = pred_7.iloc[:-7]\n",
    "    pred_7 = pd.DataFrame([\"down\" if x < (1-p) else (\"up\" if x > (1+p) else \"sw\") for x in pred_7]) \n",
    "    group.loc[:,'pred_7_5p'] = pred_7\n",
    "    \n",
    "    pred_10 =  1 - ( group[\"close\"] - group.shift(-10)[\"close\"])/group[\"close\"] \n",
    "    pred_10 = pred_10.iloc[:-10]\n",
    "    pred_10 = pd.DataFrame([\"down\" if x < (1-p) else (\"up\" if x > (1+p) else \"sw\") for x in pred_10])\n",
    "    group.loc[:,'pred_10_5p'] = pred_10\n",
    "\n",
    "\n",
    "    group.dropna(inplace=True)\n",
    "   \n",
    "    return pd.DataFrame(group.values)\n",
    "    #return group\n",
    "\n",
    "#data = _produce_prediction(group)\n",
    "#del (data['close'])\n",
    "#data = data.dropna() # Some indicators produce NaN values for the first few rows, we just remove them here\n",
    "#data.tail()"
   ]
  },
  {
   "cell_type": "code",
   "execution_count": 15,
   "id": "75c2c9e3",
   "metadata": {},
   "outputs": [],
   "source": [
    "#Schema have to match with return dataframe. Check group.columns, some of indicators maybe return null \n",
    "SCHEMA_PREDICTION = \"Date string, close double, symbol string, 14_period_RSI double, \\\n",
    "14_period_STOCH_K double, MFV double, 14_period_ATR double, MOM double, 14_period_MFI double, \\\n",
    "ROC double, OBV double, 20_period_CCI double, 14_period_EMV double, Williams double, 14_period_ADX double, 20_period_TRIX double,\\\n",
    "pred_3 string, pred_5 string, pred_7 string, pred_10 string\"\n",
    "\n",
    "df_prediction = df_indi.groupBy(\"Symbol\").applyInPandas(_produce_prediction,schema=SCHEMA_PREDICTION)"
   ]
  },
  {
   "cell_type": "code",
   "execution_count": 16,
   "id": "8f225ccd",
   "metadata": {
    "scrolled": true
   },
   "outputs": [
    {
     "name": "stderr",
     "output_type": "stream",
     "text": [
      "[Stage 9:=============================>                             (2 + 1) / 4]\r"
     ]
    },
    {
     "name": "stdout",
     "output_type": "stream",
     "text": [
      "+----------+------------------+------+------------------+------------------+------------------+-------------------+-------------------+------------------+-------------------+--------+-------------------+--------------------+-------------------+------------------+-------------------+------+------+------+-------+\n",
      "|      Date|             close|symbol|     14_period_RSI| 14_period_STOCH_K|               MFV|      14_period_ATR|                MOM|     14_period_MFI|                ROC|     OBV|      20_period_CCI|       14_period_EMV|           Williams|     14_period_ADX|     20_period_TRIX|pred_3|pred_5|pred_7|pred_10|\n",
      "+----------+------------------+------+------------------+------------------+------------------+-------------------+-------------------+------------------+-------------------+--------+-------------------+--------------------+-------------------+------------------+-------------------+------+------+------+-------+\n",
      "|1987-08-18|  5.94867562943439|  ABMD| 70.97639263246325| 66.68075841781726| 481284.9656916955|0.14197895158295562| 0.3867884771316552| 79.21465270102593|  7.042540158461931|320685.0| 106.49595538256234|  0.3011951080669036| -33.31924158218275|             100.0| 0.1634006116686997|    up|    up|    up|     up|\n",
      "|1987-08-19| 5.900786467873605|  ABMD| 66.14525670501646| 58.11473058990318|464746.89262438426| 0.1458231552563461| 0.3792000480187694| 69.36523479441568|  6.115288799272698|301482.0|  78.91904343841418| 0.26240753079496926| -41.88526941009681|             100.0| 0.1831849451841619|    up|    up|    up|     up|\n",
      "|1987-08-20| 6.127775267784426|  ABMD| 74.87487782630483| 87.14738912245079| 479851.7018082159|0.16319630933688897| 0.6202290542052324| 68.89224212524013| 10.174390453919994|355393.0|  112.6125043342081|  0.3017062811679443|-12.852610877549205| 72.68236979595254|0.20342835558399458|    up|    sw|    sw|     sw|\n",
      "|1987-08-21| 6.654096346994006|  ABMD| 84.71599026947176| 70.68429821726426| 476746.3079418366|0.23022492130272162| 1.1108221267393894| 70.41630540256696| 20.510589548446198|405721.0| 216.91186216388286|  1.0580260678217788|-29.315701782735744| 74.30307447375284|0.23639590827798435|    sw|    sw|    sw|   down|\n",
      "|1987-08-24| 6.716433721583435|  ABMD| 85.44323934855434|  74.4704171426357|458941.06056978554| 0.2627323458965439| 1.1606617594768132| 71.31136358886813|  21.94965709091382|447256.0| 198.44978163705554|  1.1878783831247006|-25.529582857364314|  75.2719489385296| 0.2765074224083779|    sw|    sw|    sw|   down|\n",
      "|1987-08-25|6.8601268026635465|  ABMD| 86.98102150410958| 83.25589608444533| 452231.9999244991|0.28861902278980217| 1.2593553745946515| 78.09872489603532| 23.755862150879548|483893.0| 183.41001537014864|  1.2469052074802094| -16.74410391555467| 75.98965179017915| 0.3220156224063643|    sw|    sw|  down|   down|\n",
      "|1987-08-26| 6.666669380880717|  ABMD| 75.42796981627575| 71.41323734439163| 434311.7084820379|0.30928652081419417| 0.8470222678303072| 77.87107123255649| 19.995374654521783|456510.0| 137.18769600294783|  1.1392096384859527| -28.58676265560836| 74.77278834412074|0.36392203495010583|    sw|    sw|  down|   down|\n",
      "|1987-08-27|6.4364592832867915|  ABMD|  64.4565480062315| 57.32130567797545| 414109.2511893918|0.32812729021245557|0.41833212301130196| 72.77387808384387| 14.920941980059265|433276.0|  90.01969487363414|  0.9349851496985371| -42.67869432202454| 70.72686330358383| 0.3961435527514894|    sw|    sw|  down|   down|\n",
      "|1987-08-28| 6.437135749150399|  ABMD| 64.47290096871897| 56.98755204908923| 407748.6026744285| 0.3405251312035659| 0.3089161128446145| 70.61390625407685| 10.610413726208364|444007.0|  73.10624914300944|  0.8230104065607777| -43.01244795091076| 67.24650543304426| 0.4201645193603271|    sw|    sw|  down|   down|\n",
      "|1987-08-31| 6.396747512202178|  ABMD|62.620450034368204|54.493702309778655| 402594.5106373653| 0.3448642955345341| 0.3112456571783717|  66.9657786139651| 6.2913318685901025|437521.0|  59.16352762410864|  0.7301574516322672|-45.506297690221345| 64.36428925369869|0.43643379081409506|    sw|  down|  down|   down|\n",
      "|1987-09-01| 6.382611629270706|  ABMD|  61.9495460700841|  42.3880801894865| 397394.9580574543| 0.3260703251484868| 0.4339359998363159| 63.30885798442788|  4.151156584822957|431611.0| 47.653428145060005|   0.609660992606778|  -57.6119198105135| 61.98264024785952|0.44606380676665974|    sw|  down|  down|   down|\n",
      "|1987-09-02|  6.37766407024474|  ABMD|61.700382378411376|39.234146472890465| 398941.2988817253|0.31295109211407696| 0.4768776023711352| 59.40749106432185|   4.80095515836123|428113.0|  33.10173778664971|  0.2664119659003777| -60.76585352710953| 58.87533022481749| 0.4502091184794432|  down|  down|  down|   down|\n",
      "|1987-09-03| 6.294682424585619|  ABMD|  57.5215679399962|32.564804248417026| 403115.2331786024| 0.3108372371296132| 0.1669071568011926|55.630303718509666|  5.816534918111315|422989.0|  9.664087531565807|0.010090656941374851| -67.43519575158298| 54.92597306709377|  0.448411640638188|  down|  down|    sw|   down|\n",
      "|1987-09-04|  6.02188884860492|  ABMD| 46.39681905577448|10.640031602585525| 393928.5009318115|0.31880274570989703|-0.6322074983890857| 57.37848978128041|  2.052309152189261|410406.0| -30.85294963622984|-0.18330643662591703| -89.35996839741448|49.635075202992496|0.43722194544485676|  down|    sw|    sw|   down|\n",
      "|1987-09-08| 5.642036097011699|  ABMD| 35.96601768179558|0.8985478217649158|380649.15612400434|0.33029603051897266| -1.074397624571736| 59.59282580192279| -7.926843749091214|396122.0|-105.90125287397183|  -0.733229035685853| -99.10145217823508| 45.93840379891601|0.41284732442603783|    sw|    sw|    sw|     sw|\n",
      "|1987-09-09| 5.509087633954091|  ABMD|33.156386046215204|2.7160958696378112| 375565.4582717809| 0.3340990991253175|-1.3510391687094554|61.598878934105265|-17.207576406031055|387353.0|-149.90864359379896| -1.1338886385720444| -97.28390413036219|43.554468000278746|0.37745218663282937|    sw|    sw|    sw|     sw|\n",
      "|1987-09-10| 5.462555671883931|  ABMD|32.208024690101325|0.9410267647799765|371918.16949677386|0.31949877720679554|-1.2041137089967862| 52.88729096756302|-18.668807013908804|382334.0|-154.08511369098107| -1.2860113953934351| -99.05897323522002|41.562799497068895|0.33434901503962833|    up|    sw|    sw|     sw|\n",
      "|1987-09-11| 5.690019485159377|  ABMD|41.079906050958755| 14.61348301780597|373867.98836160917|0.27220347600848516|-0.7464397981274145| 43.43345524198197|-17.056642700100788|393060.0|-107.86895778157468|  -1.741476865345545| -85.38651698219402|37.888560160188185| 0.2906039043938527|    sw|    sw|    sw|     sw|\n",
      "|1987-09-14| 5.850881819805782|  ABMD| 46.42020109308401|24.273896068005268|376203.08614730695|0.24950573443330543|-0.5862539293446174|30.838759507303777|-12.236808434126422|398634.0| -71.05632198505128| -1.5890420675775982| -75.72610393199474| 34.56741271656229| 0.2500531633528971|    sw|    sw|    sw|     sw|\n",
      "|1987-09-15| 5.866558636932024|  ABMD| 46.92507096082167| 27.78412254434252|378864.11632495926|0.22551715689586058| -0.530188875270154|13.032123636047004|  -8.85425699552855|402535.0| -63.70968851632731| -1.6244968692825394| -72.21587745565749|31.628297161821912| 0.2129635604359728|    sw|    sw|    sw|     sw|\n",
      "+----------+------------------+------+------------------+------------------+------------------+-------------------+-------------------+------------------+-------------------+--------+-------------------+--------------------+-------------------+------------------+-------------------+------+------+------+-------+\n",
      "only showing top 20 rows\n",
      "\n"
     ]
    },
    {
     "name": "stderr",
     "output_type": "stream",
     "text": [
      "\r",
      "                                                                                \r"
     ]
    }
   ],
   "source": [
    "df_prediction.show()"
   ]
  },
  {
   "cell_type": "code",
   "execution_count": 17,
   "id": "e896b669",
   "metadata": {},
   "outputs": [
    {
     "name": "stderr",
     "output_type": "stream",
     "text": [
      "                                                                                \r"
     ]
    }
   ],
   "source": [
    "df_prediction.coalesce(1).write.csv ('/home/jovyan/work/data/stock_data_7p',header=True)"
   ]
  },
  {
   "cell_type": "code",
   "execution_count": null,
   "id": "fd2c5f6f",
   "metadata": {},
   "outputs": [],
   "source": []
  }
 ],
 "metadata": {
  "kernelspec": {
   "display_name": "Python 3 (ipykernel)",
   "language": "python",
   "name": "python3"
  },
  "language_info": {
   "codemirror_mode": {
    "name": "ipython",
    "version": 3
   },
   "file_extension": ".py",
   "mimetype": "text/x-python",
   "name": "python",
   "nbconvert_exporter": "python",
   "pygments_lexer": "ipython3",
   "version": "3.9.7"
  }
 },
 "nbformat": 4,
 "nbformat_minor": 5
}
