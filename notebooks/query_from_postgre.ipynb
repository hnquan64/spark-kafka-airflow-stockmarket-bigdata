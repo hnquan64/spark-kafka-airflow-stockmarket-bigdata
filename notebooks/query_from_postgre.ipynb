{
 "cells": [
  {
   "cell_type": "code",
   "execution_count": 4,
   "id": "0babd2c2",
   "metadata": {},
   "outputs": [
    {
     "name": "stderr",
     "output_type": "stream",
     "text": [
      "WARNING: An illegal reflective access operation has occurred\n",
      "WARNING: Illegal reflective access by org.apache.spark.unsafe.Platform (file:/usr/local/spark-3.1.2-bin-hadoop3.2/jars/spark-unsafe_2.12-3.1.2.jar) to constructor java.nio.DirectByteBuffer(long,int)\n",
      "WARNING: Please consider reporting this to the maintainers of org.apache.spark.unsafe.Platform\n",
      "WARNING: Use --illegal-access=warn to enable warnings of further illegal reflective access operations\n",
      "WARNING: All illegal access operations will be denied in a future release\n",
      "22/01/25 02:38:04 WARN NativeCodeLoader: Unable to load native-hadoop library for your platform... using builtin-java classes where applicable\n",
      "Using Spark's default log4j profile: org/apache/spark/log4j-defaults.properties\n",
      "Setting default log level to \"WARN\".\n",
      "To adjust logging level use sc.setLogLevel(newLevel). For SparkR, use setLogLevel(newLevel).\n"
     ]
    }
   ],
   "source": [
    "from pyspark.sql import SparkSession\n",
    "\n",
    "# Spark session & context\n",
    "spark = (SparkSession\n",
    "         .builder\n",
    "         .master(\"local\")\n",
    "         .appName(\"read-postgres\")\n",
    "         # Add postgres jar\n",
    "         .config(\"spark.driver.extraClassPath\", \"/home/jovyan/work/jars/postgresql-9.4.1207.jar\")\n",
    "         .getOrCreate())\n",
    "sc = spark.sparkContext"
   ]
  },
  {
   "cell_type": "code",
   "execution_count": 5,
   "id": "5b6e274e",
   "metadata": {},
   "outputs": [],
   "source": [
    "postgres_db = \"jdbc:postgresql://postgres/airflow\"\n",
    "postgres_user = \"airflow\"\n",
    "postgres_pwd = \"airflow\""
   ]
  },
  {
   "cell_type": "code",
   "execution_count": 6,
   "id": "fda83d94",
   "metadata": {},
   "outputs": [],
   "source": [
    "dataSource = (\n",
    "    spark.read\n",
    "    .format(\"jdbc\")\n",
    "    .option(\"url\", postgres_db)\n",
    "    .option(\"dbtable\", \"public.stock\")\n",
    "    .option(\"user\", postgres_user)\n",
    "    .option(\"password\", postgres_pwd)\n",
    "    .load()\n",
    ")"
   ]
  },
  {
   "cell_type": "code",
   "execution_count": 7,
   "id": "c357402c",
   "metadata": {},
   "outputs": [],
   "source": [
    "# IMPORT THƯ VIỆN\n",
    "import pyspark\n",
    "from pyspark.sql import functions as f\n",
    "from pyspark.sql.functions import col"
   ]
  },
  {
   "cell_type": "code",
   "execution_count": 8,
   "id": "44ddc3fc",
   "metadata": {},
   "outputs": [
    {
     "name": "stdout",
     "output_type": "stream",
     "text": [
      "root\n",
      " |-- Date: timestamp (nullable = true)\n",
      " |-- Open: double (nullable = true)\n",
      " |-- High: double (nullable = true)\n",
      " |-- Low: double (nullable = true)\n",
      " |-- Close: double (nullable = true)\n",
      " |-- Adj_Close: double (nullable = true)\n",
      " |-- Volume: long (nullable = true)\n",
      " |-- Symbol: string (nullable = true)\n",
      "\n"
     ]
    },
    {
     "name": "stderr",
     "output_type": "stream",
     "text": [
      "\r",
      "[Stage 0:>                                                          (0 + 1) / 1]\r"
     ]
    },
    {
     "name": "stdout",
     "output_type": "stream",
     "text": [
      "+-------------------+------------------+------------------+------------------+------------------+------------------+-------+------+\n",
      "|               Date|              Open|              High|               Low|             Close|         Adj_Close| Volume|Symbol|\n",
      "+-------------------+------------------+------------------+------------------+------------------+------------------+-------+------+\n",
      "|2021-01-25 00:00:00| 168.8800048828125|172.49000549316406|168.22999572753906|170.38999938964844|165.14793395996094|3353100|   MMM|\n",
      "|2021-01-26 00:00:00|173.77999877929688|176.83999633789062| 172.0800018310547| 175.9499969482422|  170.536865234375|5148900|   MMM|\n",
      "|2021-01-27 00:00:00|177.30999755859375|187.27000427246094|177.16000366210938|186.64999389648438|180.90768432617188|8097000|   MMM|\n",
      "|2021-01-28 00:00:00|             185.0| 186.5800018310547| 182.5800018310547| 183.4199981689453| 177.7770538330078|4153700|   MMM|\n",
      "|2021-01-29 00:00:00| 182.2899932861328|182.97999572753906| 174.8699951171875|175.66000366210938|170.25579833984375|4217200|   MMM|\n",
      "+-------------------+------------------+------------------+------------------+------------------+------------------+-------+------+\n",
      "only showing top 5 rows\n",
      "\n"
     ]
    },
    {
     "name": "stderr",
     "output_type": "stream",
     "text": [
      "\r",
      "                                                                                \r"
     ]
    }
   ],
   "source": [
    "#dataSource = spark.read.options(header = 'True', inferSchema = 'True', delimiter = ',').csv(\"/Users/macbookquan/Desktop/HK 1 -4/BigData/dataset_final/raw.csv\")\n",
    "dataSource.printSchema()\n",
    "dataSource.show(5)"
   ]
  },
  {
   "cell_type": "code",
   "execution_count": null,
   "id": "41bac0bd",
   "metadata": {},
   "outputs": [],
   "source": [
    "# Lấy DATE - CLOSE - SYMBOL\n",
    "#column_drop = ['_c0','Open','High','Low','Adj Close']\n",
    "#dataSource = dataSource.drop(*column_drop)\n",
    "df = dataSource.select([\"Date\",\"Close\",\"Symbol\"])"
   ]
  },
  {
   "cell_type": "code",
   "execution_count": null,
   "id": "10df862a",
   "metadata": {},
   "outputs": [],
   "source": [
    "dataSource.show()"
   ]
  },
  {
   "cell_type": "code",
   "execution_count": null,
   "id": "779edda9",
   "metadata": {},
   "outputs": [],
   "source": [
    "#Sắp xếp lại cột\n",
    "current_data = dataSource.select(\"Symbol\",\"Date\",\"Close\",\"Volume\")\n",
    "current_data.show()"
   ]
  },
  {
   "cell_type": "code",
   "execution_count": null,
   "id": "a4e55b6c",
   "metadata": {},
   "outputs": [],
   "source": [
    "# LẤY NGÀY HIỆN TẠI VÀ N NGÀY TRƯỚC"
   ]
  },
  {
   "cell_type": "code",
   "execution_count": null,
   "id": "026a6c4c",
   "metadata": {},
   "outputs": [],
   "source": [
    "from datetime import date\n",
    "from datetime import datetime, timedelta\n",
    "\n",
    "DAYS_AGO_1 = 100\n",
    "DAYS_AGO_7 = 7\n",
    "DAYS_AGO_30 = 30\n",
    "\n",
    "today = date.today()    \n",
    "days_ago_1 = today - timedelta(days=DAYS_AGO_1)\n",
    "days_ago_7 = today - timedelta(days=DAYS_AGO_7)\n",
    "days_ago_30 = today - timedelta(days=DAYS_AGO_30)\n",
    "print(today,days_ago_1,days_ago_7,days_ago_30)"
   ]
  },
  {
   "cell_type": "code",
   "execution_count": null,
   "id": "96706075",
   "metadata": {},
   "outputs": [],
   "source": [
    "# Tạo 1 DF để lưu data\n",
    "data_today = dataSource.select(\"Symbol\",\"Date\")\n",
    "data_1ago = dataSource.select(\"Symbol\",\"Date\")\n",
    "data_7ago = dataSource.select(\"Symbol\",\"Date\")\n",
    "data_30ago = dataSource.select(\"Symbol\",\"Date\")"
   ]
  },
  {
   "cell_type": "code",
   "execution_count": null,
   "id": "60a5797b",
   "metadata": {},
   "outputs": [],
   "source": [
    "# Lấy ngày cũ để test\n",
    "today_temp = '2021-12-01'\n",
    "ago1_temp = '2021-11-30'\n",
    "ago7_temp = '2021-11-24'\n",
    "ago30_temp = '2021-11-02'"
   ]
  },
  {
   "cell_type": "code",
   "execution_count": null,
   "id": "007f933e",
   "metadata": {},
   "outputs": [],
   "source": [
    "# Lọc Giá, volume theo ngày cho từng mã\n",
    "data_today = current_data.filter(current_data.Date == today_temp)\n",
    "data_1ago = current_data.filter(current_data.Date == ago1_temp)\n",
    "data_7ago = current_data.filter(current_data.Date == ago7_temp)\n",
    "data_30ago = current_data.filter(current_data.Date == ago30_temp)"
   ]
  },
  {
   "cell_type": "code",
   "execution_count": null,
   "id": "d69afda9",
   "metadata": {},
   "outputs": [],
   "source": [
    "# Đổi tên dữ liệu cũ để phân biệt theo khung thời gian\n",
    "data_1ago = data_1ago.withColumnRenamed('Close','Close_1D')\n",
    "data_1ago = data_1ago.withColumnRenamed('Volume','Volume_1D')\n",
    "data_7ago = data_7ago.withColumnRenamed('Close','Close_7D')\n",
    "data_7ago = data_7ago.withColumnRenamed('Volume','Volume_7D')\n",
    "data_30ago = data_30ago.withColumnRenamed('Close','Close_30D')\n",
    "data_30ago = data_30ago.withColumnRenamed('Volume','Volume_30D')"
   ]
  },
  {
   "cell_type": "code",
   "execution_count": null,
   "id": "86417313",
   "metadata": {},
   "outputs": [],
   "source": [
    "data_today.show(5)\n",
    "data_1ago.show(5)\n",
    "data_7ago.show(5)\n",
    "data_30ago.show(5)"
   ]
  },
  {
   "cell_type": "code",
   "execution_count": null,
   "id": "60909c3f",
   "metadata": {},
   "outputs": [],
   "source": [
    "#Xoá những cột không sử dụng\n",
    "data_today = data_today.drop('Date')\n",
    "data_1ago = data_1ago.drop('Symbol','Date')\n",
    "data_7ago = data_7ago.drop('Symbol','Date')\n",
    "data_30ago = data_30ago.drop('Symbol','Date')"
   ]
  },
  {
   "cell_type": "code",
   "execution_count": null,
   "id": "f64f6046",
   "metadata": {},
   "outputs": [],
   "source": [
    "# Kết hợp các dataframe tạo thành tập dữ liệu chính , mọi QUERY đều thực hiện từ tập này\n",
    "from pyspark.sql import *\n",
    "from pyspark.sql.functions import *\n",
    "\n",
    "w=Window.orderBy(lit(1))\n",
    "#####\n",
    "new_df=data_today.withColumn(\"rn\",row_number().over(w)-1)\n",
    "df_1ago=data_1ago.withColumn(\"rn\",row_number().over(w)-1)\n",
    "\n",
    "new_df = new_df.join(df_1ago,[\"rn\"])\n",
    "#####\n",
    "df_7ago=data_7ago.withColumn(\"rn\",row_number().over(w)-1)\n",
    "\n",
    "new_df = new_df.join(df_7ago,[\"rn\"])\n",
    "#####\n",
    "df_30ago=data_30ago.withColumn(\"rn\",row_number().over(w)-1)\n",
    "\n",
    "new_df = new_df.join(df_30ago,[\"rn\"]).drop(\"rn\")"
   ]
  },
  {
   "cell_type": "code",
   "execution_count": null,
   "id": "b9ceb7c9",
   "metadata": {},
   "outputs": [],
   "source": [
    "new_df.show()"
   ]
  },
  {
   "cell_type": "code",
   "execution_count": null,
   "id": "7f491c43",
   "metadata": {},
   "outputs": [],
   "source": [
    "# Tính biến động theo khung 1d,7d,30d\n",
    "\n",
    "new_df = new_df.withColumn(\"P_Change_1D\",col(\"Close\")/col(\"Close_1D\")*100 - 100)\n",
    "new_df = new_df.withColumn(\"P_Change_7D\",col(\"Close\")/col(\"Close_7D\")*100 - 100)\n",
    "new_df = new_df.withColumn(\"P_Change_30D\",col(\"Close\")/col(\"Close_30D\")*100 - 100)"
   ]
  },
  {
   "cell_type": "code",
   "execution_count": null,
   "id": "bb956664",
   "metadata": {},
   "outputs": [],
   "source": [
    "## XOÁ CỘT THỪA SAU KHI TÍNH\n",
    "columns = ['Close','Volume','Close_1D','Volume_1D','Close_7D','Volume_7D','Close_30D','Volume_30D']\n",
    "P_Change_DF = new_df.drop(*columns)"
   ]
  },
  {
   "cell_type": "code",
   "execution_count": null,
   "id": "bb5c3f46",
   "metadata": {},
   "outputs": [],
   "source": [
    "P_Change_DF.show()"
   ]
  },
  {
   "cell_type": "code",
   "execution_count": null,
   "id": "18ae5dcf",
   "metadata": {},
   "outputs": [],
   "source": [
    "top5_giam_1d = P_Change_DF.sort('P_Change_1D').limit(5)\n",
    "top5_giam_7d = P_Change_DF.sort('P_Change_7D').limit(5)\n",
    "top5_giam_30d = P_Change_DF.sort('P_Change_30D').limit(5)"
   ]
  },
  {
   "cell_type": "code",
   "execution_count": null,
   "id": "7989905a",
   "metadata": {},
   "outputs": [],
   "source": [
    "top5_giam_1d.show()\n",
    "top5_giam_7d.show()\n",
    "top5_giam_30d.show()"
   ]
  },
  {
   "cell_type": "code",
   "execution_count": null,
   "id": "5cc399b3",
   "metadata": {},
   "outputs": [],
   "source": [
    "# Loại bỏ những cột không sử dụng trong từng df\n",
    "top5_giam_1d = top5_giam_1d.drop('P_Change_7D','P_Change_30D')\n",
    "top5_giam_7d = top5_giam_7d.drop('P_Change_1D','P_Change_30D')\n",
    "top5_giam_30d = top5_giam_30d.drop('P_Change_1D','P_Change_7D')"
   ]
  },
  {
   "cell_type": "code",
   "execution_count": null,
   "id": "48b3c945",
   "metadata": {},
   "outputs": [],
   "source": [
    "top5_giam_1d.show()\n",
    "top5_giam_7d.show()\n",
    "top5_giam_30d.show()"
   ]
  },
  {
   "cell_type": "code",
   "execution_count": null,
   "id": "818c01b9",
   "metadata": {},
   "outputs": [],
   "source": [
    "df_ticker_giam = top5_giam_1d.withColumn(\"rn\",row_number().over(w)-1)\n",
    "df_7d=top5_giam_7d.withColumn(\"rn\",row_number().over(w)-1)\n",
    "\n",
    "df_ticker_giam = df_ticker_giam.join(df_7d,[\"rn\"])\n",
    "#####\n",
    "df_30d=top5_giam_30d.withColumn(\"rn\",row_number().over(w)-1)\n",
    "\n",
    "df_ticker_giam = df_ticker_giam.join(df_30d,[\"rn\"]).drop(\"rn\")\n",
    "#####"
   ]
  },
  {
   "cell_type": "code",
   "execution_count": null,
   "id": "fe2559ef",
   "metadata": {},
   "outputs": [],
   "source": [
    "df_ticker_giam.show()"
   ]
  },
  {
   "cell_type": "code",
   "execution_count": null,
   "id": "c4e2b00c",
   "metadata": {},
   "outputs": [],
   "source": [
    "##### Top ticker tăng"
   ]
  },
  {
   "cell_type": "code",
   "execution_count": null,
   "id": "64215b2a",
   "metadata": {},
   "outputs": [],
   "source": [
    "new_df = new_df.withColumn('P_Change_1D',col('P_Change_1D')*(-1))\n",
    "new_df.show()"
   ]
  },
  {
   "cell_type": "code",
   "execution_count": null,
   "id": "dd4b8554",
   "metadata": {},
   "outputs": [],
   "source": []
  },
  {
   "cell_type": "code",
   "execution_count": null,
   "id": "79f50461",
   "metadata": {},
   "outputs": [],
   "source": []
  },
  {
   "cell_type": "code",
   "execution_count": null,
   "id": "536b9090",
   "metadata": {},
   "outputs": [],
   "source": [
    "new_df.sort('P_Change_1D').limit(3).show()"
   ]
  },
  {
   "cell_type": "code",
   "execution_count": null,
   "id": "0c5b6e9c",
   "metadata": {},
   "outputs": [],
   "source": [
    "# Top ticker có volume lớn"
   ]
  },
  {
   "cell_type": "code",
   "execution_count": null,
   "id": "0d064592",
   "metadata": {},
   "outputs": [],
   "source": [
    "df_big_volume = new_df.select('Symbol','Volume','Volume_1D','Volume_7D','Volume_30D')"
   ]
  },
  {
   "cell_type": "code",
   "execution_count": null,
   "id": "7f636ee8",
   "metadata": {},
   "outputs": [],
   "source": [
    "df_big_volume.show(20)"
   ]
  },
  {
   "cell_type": "code",
   "execution_count": null,
   "id": "8bafa1f0",
   "metadata": {},
   "outputs": [],
   "source": []
  },
  {
   "cell_type": "code",
   "execution_count": null,
   "id": "6d9dc4d7",
   "metadata": {},
   "outputs": [],
   "source": []
  },
  {
   "cell_type": "code",
   "execution_count": null,
   "id": "8388e7e2",
   "metadata": {},
   "outputs": [],
   "source": []
  },
  {
   "cell_type": "code",
   "execution_count": null,
   "id": "16e2a4f4",
   "metadata": {},
   "outputs": [],
   "source": []
  },
  {
   "cell_type": "code",
   "execution_count": null,
   "id": "fb5a6a89",
   "metadata": {},
   "outputs": [],
   "source": [
    "# Ghi dữ liệu ra txt\n",
    "\n",
    "import pandas as pd\n",
    "import numpy as np\n",
    "\n",
    "a_dataframe = pd.DataFrame([[1, 2, 3],[4, 5, 6],[7, 8, 9]])\n",
    "\n",
    "numpy_array = a_dataframe.to_numpy()\n",
    "np.savetxt(\"test_file.txt\", numpy_array, fmt = \"%d\")"
   ]
  },
  {
   "cell_type": "code",
   "execution_count": null,
   "id": "4a42e0ca",
   "metadata": {},
   "outputs": [],
   "source": [
    "type(a_dataframe)"
   ]
  },
  {
   "cell_type": "code",
   "execution_count": null,
   "id": "799cc4b7",
   "metadata": {},
   "outputs": [],
   "source": []
  }
 ],
 "metadata": {
  "kernelspec": {
   "display_name": "Python 3 (ipykernel)",
   "language": "python",
   "name": "python3"
  },
  "language_info": {
   "codemirror_mode": {
    "name": "ipython",
    "version": 3
   },
   "file_extension": ".py",
   "mimetype": "text/x-python",
   "name": "python",
   "nbconvert_exporter": "python",
   "pygments_lexer": "ipython3",
   "version": "3.9.7"
  }
 },
 "nbformat": 4,
 "nbformat_minor": 5
}
